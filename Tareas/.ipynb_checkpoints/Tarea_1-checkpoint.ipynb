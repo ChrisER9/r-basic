{
 "cells": [
  {
   "cell_type": "markdown",
   "id": "883b7240-7e72-46c5-8aa1-c6b50e43503d",
   "metadata": {},
   "source": [
    "### Pregunta 1"
   ]
  },
  {
   "cell_type": "code",
   "execution_count": 1,
   "id": "b6083d5c-f2e1-4a03-96d9-df8e7e450e1d",
   "metadata": {},
   "outputs": [
    {
     "name": "stdin",
     "output_type": "stream",
     "text": [
      "Ingrese un numero:  -2\n"
     ]
    },
    {
     "name": "stdout",
     "output_type": "stream",
     "text": [
      "El numero -2.0 no es positivo\n"
     ]
    }
   ],
   "source": [
    "n = True\n",
    "while n:\n",
    "    num = float(input(\"Ingrese un numero: \"))\n",
    "    if num>0:\n",
    "        print(\"El numero {} es positivo\".format(num))\n",
    "        n = False \n",
    "    elif num<0:\n",
    "        print(\"El numero {} no es positivo\".format(num))\n",
    "        n = False\n",
    "    else: \n",
    "        print(\"El numero {} es el cero\".format(num))\n",
    "        n = False"
   ]
  },
  {
   "cell_type": "markdown",
   "id": "27e15cdd-bf3b-44a2-9786-6fafcc70be93",
   "metadata": {},
   "source": [
    "### Pregunta 2"
   ]
  },
  {
   "cell_type": "code",
   "execution_count": 18,
   "id": "3e773f74-bc91-42bf-bdc4-0975f7601cf1",
   "metadata": {},
   "outputs": [
    {
     "name": "stdin",
     "output_type": "stream",
     "text": [
      "Ingrese un numero:  8\n"
     ]
    },
    {
     "name": "stdout",
     "output_type": "stream",
     "text": [
      "El numero 8.0 no esta en el rango de -5 a 5\n"
     ]
    }
   ],
   "source": [
    "num = float(input(\"Ingrese un numero: \"))\n",
    "\n",
    "if num in range(-5,6):\n",
    "    print(\"El numero {:.1f} esta en el rango de -5 a 5\".format(num))\n",
    "else:\n",
    "    print(\"El numero {:.1f} no esta en el rango de -5 a 5\".format(num))\n"
   ]
  },
  {
   "cell_type": "markdown",
   "id": "93c959b0-f2c4-4934-96a3-091768b7b044",
   "metadata": {},
   "source": [
    "### Pregunta 3"
   ]
  },
  {
   "cell_type": "code",
   "execution_count": 3,
   "id": "3127c45b-5f38-4ffb-b3d5-ce3f4e24d50f",
   "metadata": {},
   "outputs": [
    {
     "name": "stdin",
     "output_type": "stream",
     "text": [
      "Ingrese la coordenada del eje X :  -5\n",
      "Ingrese la coordenada del eje Y :  9\n"
     ]
    },
    {
     "name": "stdout",
     "output_type": "stream",
     "text": [
      "La coordenada (-5.0,9.0) esta en  el segundo cuadrante\n"
     ]
    }
   ],
   "source": [
    "x = float(input(\"Ingrese la coordenada del eje X : \"))\n",
    "y = float(input(\"Ingrese la coordenada del eje Y : \"))\n",
    "\n",
    "if x>0:\n",
    "    if y>0:\n",
    "        print(\"La coordenada ({0},{1}) esta en el primer cuadrante\".format(x,y))\n",
    "    if y==0:\n",
    "        print(\"La coordenada ({0},{1}) se encuentra en el eje horizontal\".format(x,y))\n",
    "    if y<0:\n",
    "        print(\"La coordenada ({0},{1}) esta en el cuarto cuadrante\".format(x,y))\n",
    "if x<0:\n",
    "    if y>0:\n",
    "        print(\"La coordenada ({0},{1}) esta en  el segundo cuadrante\".format(x,y))\n",
    "    if y==0:\n",
    "        print(\"La coordenada ({0},{1}) se encuentra en el eje horizontal\".format(x,y))\n",
    "    if y<0:\n",
    "        print(\"La coordenada ({0},{1}) se encuentra en el tercer cuadrante\".format(x,y))\n",
    "if x==0:\n",
    "    if y>0:\n",
    "        print(\"La coordenada ({0},{1}) se encuentra en el eje vertical\".format(x,y))\n",
    "    if y<0:\n",
    "        print(\"La coordenada ({0},{1}) se encuentra en el eje vertical\".format(x,y))\n",
    "    if y==0:\n",
    "        print(\"La coordenada ({0},{1}) es el origen de coordenadas\".format(x,y))\n"
   ]
  },
  {
   "cell_type": "markdown",
   "id": "fbff8683-2777-40d4-8e14-1b59e6af318f",
   "metadata": {},
   "source": [
    "### Pregunta 4"
   ]
  },
  {
   "cell_type": "code",
   "execution_count": 9,
   "id": "e70cbf31-154b-4e99-b067-ec21c8e56241",
   "metadata": {},
   "outputs": [
    {
     "name": "stdin",
     "output_type": "stream",
     "text": [
      "Ingrese el primer número entero:  85\n",
      "Ingrese el segundo número entero:  11\n"
     ]
    },
    {
     "name": "stdout",
     "output_type": "stream",
     "text": [
      "El cociente de la division entera es: 7\n",
      "El residuo de la division entera es: 8\n"
     ]
    }
   ],
   "source": [
    "x = int(input(\"Ingrese el primer número entero: \"))\n",
    "y = int(input(\"Ingrese el segundo número entero: \"))\n",
    "\n",
    "print(\"El cociente de la division entera es: {}\".format(x//y))\n",
    "print(\"El residuo de la division entera es: {}\".format(x%y))\n"
   ]
  },
  {
   "cell_type": "markdown",
   "id": "381f0de3-06bd-45f1-9027-d6b311923419",
   "metadata": {},
   "source": [
    "### Pregunta 5"
   ]
  },
  {
   "cell_type": "code",
   "execution_count": null,
   "id": "388564a0-90ae-4278-9ee6-13f2330c6ea6",
   "metadata": {},
   "outputs": [],
   "source": [
    "x = int(input(\"Ingrese un número cuadrado perfecto: \"))\n",
    "\n",
    "if "
   ]
  },
  {
   "cell_type": "code",
   "execution_count": 12,
   "id": "321ff52e-1713-4a3e-850c-7ffffde40ebb",
   "metadata": {},
   "outputs": [
    {
     "data": {
      "text/plain": [
       "False"
      ]
     },
     "execution_count": 12,
     "metadata": {},
     "output_type": "execute_result"
    }
   ],
   "source": [
    "type(25**(0.5)) == int"
   ]
  },
  {
   "cell_type": "code",
   "execution_count": 14,
   "id": "cbe75b66-4754-4616-a982-aa0248a6e208",
   "metadata": {},
   "outputs": [
    {
     "data": {
      "text/plain": [
       "True"
      ]
     },
     "execution_count": 14,
     "metadata": {},
     "output_type": "execute_result"
    }
   ],
   "source": [
    "5==5.0"
   ]
  },
  {
   "cell_type": "code",
   "execution_count": null,
   "id": "90bd7de7-8df1-4412-99f8-c30ce8d3624d",
   "metadata": {},
   "outputs": [],
   "source": [
    "import locale\n",
    "locale.setlocale(locale.LC_ALL, '')  # Configura la configuración regional del equipo\n",
    "cantidad = 1234.56\n",
    "cadena_formateada = locale.currency(cantidad, grouping=True)\n",
    "print(cadena_formateada) "
   ]
  }
 ],
 "metadata": {
  "kernelspec": {
   "display_name": "Python 3 (ipykernel)",
   "language": "python",
   "name": "python3"
  },
  "language_info": {
   "codemirror_mode": {
    "name": "ipython",
    "version": 3
   },
   "file_extension": ".py",
   "mimetype": "text/x-python",
   "name": "python",
   "nbconvert_exporter": "python",
   "pygments_lexer": "ipython3",
   "version": "3.11.9"
  }
 },
 "nbformat": 4,
 "nbformat_minor": 5
}
